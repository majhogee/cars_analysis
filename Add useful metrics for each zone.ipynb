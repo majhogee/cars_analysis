{
 "cells": [
  {
   "cell_type": "markdown",
   "metadata": {},
   "source": [
    "### Import useful libraries"
   ]
  },
  {
   "cell_type": "code",
   "execution_count": 1,
   "metadata": {},
   "outputs": [],
   "source": [
    "%run \"Imports.ipynb\"\n",
    "%run \"Helpers.ipynb\""
   ]
  },
  {
   "cell_type": "markdown",
   "metadata": {},
   "source": [
    "### Load data"
   ]
  },
  {
   "cell_type": "code",
   "execution_count": 2,
   "metadata": {},
   "outputs": [],
   "source": [
    "data = pd.read_pickle(\"data_with_prophet.pkl\")"
   ]
  },
  {
   "cell_type": "code",
   "execution_count": 3,
   "metadata": {},
   "outputs": [
    {
     "data": {
      "text/html": [
       "<div>\n",
       "<style scoped>\n",
       "    .dataframe tbody tr th:only-of-type {\n",
       "        vertical-align: middle;\n",
       "    }\n",
       "\n",
       "    .dataframe tbody tr th {\n",
       "        vertical-align: top;\n",
       "    }\n",
       "\n",
       "    .dataframe thead th {\n",
       "        text-align: right;\n",
       "    }\n",
       "</style>\n",
       "<table border=\"1\" class=\"dataframe\">\n",
       "  <thead>\n",
       "    <tr style=\"text-align: right;\">\n",
       "      <th></th>\n",
       "      <th>zone</th>\n",
       "      <th>timestamp</th>\n",
       "      <th>supply</th>\n",
       "      <th>forecast</th>\n",
       "      <th>date</th>\n",
       "      <th>hour</th>\n",
       "      <th>prophet_forecast</th>\n",
       "    </tr>\n",
       "  </thead>\n",
       "  <tbody>\n",
       "    <tr>\n",
       "      <th>0</th>\n",
       "      <td>0_0_10_10</td>\n",
       "      <td>2019-01-04 14:00:00</td>\n",
       "      <td>1</td>\n",
       "      <td>0.0</td>\n",
       "      <td>2019-01-04</td>\n",
       "      <td>14:00:00</td>\n",
       "      <td>NaN</td>\n",
       "    </tr>\n",
       "    <tr>\n",
       "      <th>1</th>\n",
       "      <td>0_0_10_10</td>\n",
       "      <td>2019-01-04 15:00:00</td>\n",
       "      <td>0</td>\n",
       "      <td>0.0</td>\n",
       "      <td>2019-01-04</td>\n",
       "      <td>15:00:00</td>\n",
       "      <td>NaN</td>\n",
       "    </tr>\n",
       "    <tr>\n",
       "      <th>2</th>\n",
       "      <td>0_0_10_10</td>\n",
       "      <td>2019-01-04 16:00:00</td>\n",
       "      <td>0</td>\n",
       "      <td>0.0</td>\n",
       "      <td>2019-01-04</td>\n",
       "      <td>16:00:00</td>\n",
       "      <td>NaN</td>\n",
       "    </tr>\n",
       "    <tr>\n",
       "      <th>3</th>\n",
       "      <td>0_0_10_10</td>\n",
       "      <td>2019-01-04 17:00:00</td>\n",
       "      <td>0</td>\n",
       "      <td>0.0</td>\n",
       "      <td>2019-01-04</td>\n",
       "      <td>17:00:00</td>\n",
       "      <td>NaN</td>\n",
       "    </tr>\n",
       "    <tr>\n",
       "      <th>4</th>\n",
       "      <td>0_0_10_10</td>\n",
       "      <td>2019-01-04 18:00:00</td>\n",
       "      <td>0</td>\n",
       "      <td>0.0</td>\n",
       "      <td>2019-01-04</td>\n",
       "      <td>18:00:00</td>\n",
       "      <td>NaN</td>\n",
       "    </tr>\n",
       "  </tbody>\n",
       "</table>\n",
       "</div>"
      ],
      "text/plain": [
       "        zone           timestamp  supply  forecast        date      hour  \\\n",
       "0  0_0_10_10 2019-01-04 14:00:00       1       0.0  2019-01-04  14:00:00   \n",
       "1  0_0_10_10 2019-01-04 15:00:00       0       0.0  2019-01-04  15:00:00   \n",
       "2  0_0_10_10 2019-01-04 16:00:00       0       0.0  2019-01-04  16:00:00   \n",
       "3  0_0_10_10 2019-01-04 17:00:00       0       0.0  2019-01-04  17:00:00   \n",
       "4  0_0_10_10 2019-01-04 18:00:00       0       0.0  2019-01-04  18:00:00   \n",
       "\n",
       "   prophet_forecast  \n",
       "0               NaN  \n",
       "1               NaN  \n",
       "2               NaN  \n",
       "3               NaN  \n",
       "4               NaN  "
      ]
     },
     "execution_count": 3,
     "metadata": {},
     "output_type": "execute_result"
    }
   ],
   "source": [
    "data.head()"
   ]
  },
  {
   "cell_type": "code",
   "execution_count": 4,
   "metadata": {},
   "outputs": [
    {
     "name": "stdout",
     "output_type": "stream",
     "text": [
      "<class 'pandas.core.frame.DataFrame'>\n",
      "RangeIndex: 951758 entries, 0 to 951757\n",
      "Data columns (total 7 columns):\n",
      "zone                951758 non-null object\n",
      "timestamp           951758 non-null datetime64[ns]\n",
      "supply              951758 non-null int64\n",
      "forecast            951758 non-null float64\n",
      "date                951758 non-null object\n",
      "hour                951758 non-null object\n",
      "prophet_forecast    84602 non-null float64\n",
      "dtypes: datetime64[ns](1), float64(2), int64(1), object(3)\n",
      "memory usage: 50.8+ MB\n"
     ]
    }
   ],
   "source": [
    "data.info()"
   ]
  },
  {
   "cell_type": "markdown",
   "metadata": {},
   "source": [
    "### Helpers"
   ]
  },
  {
   "cell_type": "code",
   "execution_count": 5,
   "metadata": {},
   "outputs": [],
   "source": [
    "def divide_into_train_and_test(df,cut_date,timestamp):\n",
    "    train = df[ df[timestamp] < cut_date ]\n",
    "    test = df[ df[timestamp] >= cut_date ]    \n",
    "    return train, test"
   ]
  },
  {
   "cell_type": "code",
   "execution_count": 6,
   "metadata": {},
   "outputs": [],
   "source": [
    "def calculate_zones_mean_supply(train):\n",
    "    zone_names = train['zone'].unique()\n",
    "    MeanSupplyDict = {elem : pd.DataFrame for elem in zone_names}\n",
    "\n",
    "    for key in MeanSupplyDict.keys():\n",
    "        MeanSupplyDict[key] = train['supply'][train.zone == key].mean()\n",
    "        \n",
    "    return MeanSupplyDict"
   ]
  },
  {
   "cell_type": "code",
   "execution_count": 7,
   "metadata": {},
   "outputs": [],
   "source": [
    "def calculate_zones_max_supply(train):\n",
    "    zone_names = train['zone'].unique()\n",
    "    MaxSupplyDict = {elem : pd.DataFrame for elem in zone_names}\n",
    "\n",
    "    for key in MaxSupplyDict.keys():\n",
    "        MaxSupplyDict[key] = train['supply'][train.zone == key].max()\n",
    "        \n",
    "    return MaxSupplyDict"
   ]
  },
  {
   "cell_type": "code",
   "execution_count": 8,
   "metadata": {},
   "outputs": [],
   "source": [
    "def calculate_zones_mean_improvement(train):\n",
    "    zone_names = train['zone'].unique()\n",
    "    resultDict = {elem : pd.DataFrame for elem in zone_names}\n",
    "\n",
    "    for key in resultDict.keys():\n",
    "        resultDict[key] = train['prophet_improvement'][train.zone == key].mean()\n",
    "        \n",
    "    return resultDict"
   ]
  },
  {
   "cell_type": "code",
   "execution_count": 9,
   "metadata": {},
   "outputs": [],
   "source": [
    "def calculate_zones_sum_improvement(train):\n",
    "    zone_names = train['zone'].unique()\n",
    "    resultDict = {elem : pd.DataFrame for elem in zone_names}\n",
    "\n",
    "    for key in resultDict.keys():\n",
    "        resultDict[key] = train['prophet_improvement'][train.zone == key].sum()\n",
    "        \n",
    "    return resultDict"
   ]
  },
  {
   "cell_type": "markdown",
   "metadata": {},
   "source": [
    "### Divide into train and test"
   ]
  },
  {
   "cell_type": "code",
   "execution_count": 10,
   "metadata": {},
   "outputs": [],
   "source": [
    "train, test = divide_into_train_and_test(data,'2019-12-31 00:00:00','timestamp')"
   ]
  },
  {
   "cell_type": "code",
   "execution_count": 11,
   "metadata": {},
   "outputs": [],
   "source": [
    "test['supply'] = test['supply'].astype(float)"
   ]
  },
  {
   "cell_type": "code",
   "execution_count": 12,
   "metadata": {},
   "outputs": [],
   "source": [
    "test['diff_naive_forecast'] = abs(test['supply'] - test['forecast']).round(0)"
   ]
  },
  {
   "cell_type": "code",
   "execution_count": 13,
   "metadata": {},
   "outputs": [],
   "source": [
    "test['diff_prophet_forecast'] = abs(test['supply'] - test['prophet_forecast']).round(0)"
   ]
  },
  {
   "cell_type": "code",
   "execution_count": 14,
   "metadata": {},
   "outputs": [],
   "source": [
    "test['prophet_improvement'] = test['diff_naive_forecast'] - test['diff_prophet_forecast']"
   ]
  },
  {
   "cell_type": "markdown",
   "metadata": {},
   "source": [
    "### Calculate zone metrics"
   ]
  },
  {
   "cell_type": "code",
   "execution_count": 15,
   "metadata": {},
   "outputs": [],
   "source": [
    "mean_supply_dict = calculate_zones_mean_supply(train)"
   ]
  },
  {
   "cell_type": "code",
   "execution_count": 16,
   "metadata": {},
   "outputs": [],
   "source": [
    "data['zone_mean_supply'] = data['zone'].map(mean_supply_dict)"
   ]
  },
  {
   "cell_type": "code",
   "execution_count": 17,
   "metadata": {},
   "outputs": [],
   "source": [
    "max_supply_dict = calculate_zones_max_supply(train)"
   ]
  },
  {
   "cell_type": "code",
   "execution_count": 18,
   "metadata": {},
   "outputs": [],
   "source": [
    "data['zone_max_supply'] = data['zone'].map(max_supply_dict)"
   ]
  },
  {
   "cell_type": "code",
   "execution_count": 19,
   "metadata": {},
   "outputs": [],
   "source": [
    "mean_improvement_dict = calculate_zones_mean_improvement(test)"
   ]
  },
  {
   "cell_type": "code",
   "execution_count": 20,
   "metadata": {},
   "outputs": [],
   "source": [
    "data['zones_mean_improvement'] = data['zone'].map(mean_improvement_dict)"
   ]
  },
  {
   "cell_type": "code",
   "execution_count": 21,
   "metadata": {},
   "outputs": [],
   "source": [
    "sum_improvement_dict = calculate_zones_sum_improvement(test)"
   ]
  },
  {
   "cell_type": "code",
   "execution_count": 22,
   "metadata": {},
   "outputs": [],
   "source": [
    "data['zones_sum_improvement'] = data['zone'].map(sum_improvement_dict)"
   ]
  },
  {
   "cell_type": "code",
   "execution_count": 23,
   "metadata": {},
   "outputs": [
    {
     "data": {
      "text/html": [
       "<div>\n",
       "<style scoped>\n",
       "    .dataframe tbody tr th:only-of-type {\n",
       "        vertical-align: middle;\n",
       "    }\n",
       "\n",
       "    .dataframe tbody tr th {\n",
       "        vertical-align: top;\n",
       "    }\n",
       "\n",
       "    .dataframe thead th {\n",
       "        text-align: right;\n",
       "    }\n",
       "</style>\n",
       "<table border=\"1\" class=\"dataframe\">\n",
       "  <thead>\n",
       "    <tr style=\"text-align: right;\">\n",
       "      <th></th>\n",
       "      <th>zone</th>\n",
       "      <th>timestamp</th>\n",
       "      <th>supply</th>\n",
       "      <th>forecast</th>\n",
       "      <th>date</th>\n",
       "      <th>hour</th>\n",
       "      <th>prophet_forecast</th>\n",
       "      <th>zone_mean_supply</th>\n",
       "      <th>zone_max_supply</th>\n",
       "      <th>zones_mean_improvement</th>\n",
       "      <th>zones_sum_improvement</th>\n",
       "    </tr>\n",
       "  </thead>\n",
       "  <tbody>\n",
       "    <tr>\n",
       "      <th>321571</th>\n",
       "      <td>3_4_10_10</td>\n",
       "      <td>2019-03-27 06:00:00</td>\n",
       "      <td>7</td>\n",
       "      <td>4.0</td>\n",
       "      <td>2019-03-27</td>\n",
       "      <td>06:00:00</td>\n",
       "      <td>NaN</td>\n",
       "      <td>8.31147</td>\n",
       "      <td>49</td>\n",
       "      <td>0.53588</td>\n",
       "      <td>463.0</td>\n",
       "    </tr>\n",
       "  </tbody>\n",
       "</table>\n",
       "</div>"
      ],
      "text/plain": [
       "             zone           timestamp  supply  forecast        date      hour  \\\n",
       "321571  3_4_10_10 2019-03-27 06:00:00       7       4.0  2019-03-27  06:00:00   \n",
       "\n",
       "        prophet_forecast  zone_mean_supply  zone_max_supply  \\\n",
       "321571               NaN           8.31147               49   \n",
       "\n",
       "        zones_mean_improvement  zones_sum_improvement  \n",
       "321571                 0.53588                  463.0  "
      ]
     },
     "execution_count": 23,
     "metadata": {},
     "output_type": "execute_result"
    }
   ],
   "source": [
    "data.sample()"
   ]
  },
  {
   "cell_type": "code",
   "execution_count": 24,
   "metadata": {},
   "outputs": [],
   "source": [
    "train, test = divide_into_train_and_test(data,'2019-12-31 00:00:00','timestamp')"
   ]
  },
  {
   "cell_type": "code",
   "execution_count": 25,
   "metadata": {},
   "outputs": [
    {
     "data": {
      "text/html": [
       "<div>\n",
       "<style scoped>\n",
       "    .dataframe tbody tr th:only-of-type {\n",
       "        vertical-align: middle;\n",
       "    }\n",
       "\n",
       "    .dataframe tbody tr th {\n",
       "        vertical-align: top;\n",
       "    }\n",
       "\n",
       "    .dataframe thead th {\n",
       "        text-align: right;\n",
       "    }\n",
       "</style>\n",
       "<table border=\"1\" class=\"dataframe\">\n",
       "  <thead>\n",
       "    <tr style=\"text-align: right;\">\n",
       "      <th></th>\n",
       "      <th>zone</th>\n",
       "      <th>timestamp</th>\n",
       "      <th>supply</th>\n",
       "      <th>forecast</th>\n",
       "      <th>date</th>\n",
       "      <th>hour</th>\n",
       "      <th>prophet_forecast</th>\n",
       "      <th>zone_mean_supply</th>\n",
       "      <th>zone_max_supply</th>\n",
       "      <th>zones_mean_improvement</th>\n",
       "      <th>zones_sum_improvement</th>\n",
       "    </tr>\n",
       "  </thead>\n",
       "  <tbody>\n",
       "    <tr>\n",
       "      <th>8650</th>\n",
       "      <td>0_0_10_10</td>\n",
       "      <td>2019-12-31 00:00:00</td>\n",
       "      <td>0</td>\n",
       "      <td>0.0</td>\n",
       "      <td>2019-12-31</td>\n",
       "      <td>00:00:00</td>\n",
       "      <td>0.053345</td>\n",
       "      <td>0.026127</td>\n",
       "      <td>2</td>\n",
       "      <td>0.016905</td>\n",
       "      <td>13.0</td>\n",
       "    </tr>\n",
       "    <tr>\n",
       "      <th>8651</th>\n",
       "      <td>0_0_10_10</td>\n",
       "      <td>2019-12-31 01:00:00</td>\n",
       "      <td>0</td>\n",
       "      <td>0.0</td>\n",
       "      <td>2019-12-31</td>\n",
       "      <td>01:00:00</td>\n",
       "      <td>0.068624</td>\n",
       "      <td>0.026127</td>\n",
       "      <td>2</td>\n",
       "      <td>0.016905</td>\n",
       "      <td>13.0</td>\n",
       "    </tr>\n",
       "    <tr>\n",
       "      <th>8652</th>\n",
       "      <td>0_0_10_10</td>\n",
       "      <td>2019-12-31 02:00:00</td>\n",
       "      <td>0</td>\n",
       "      <td>0.0</td>\n",
       "      <td>2019-12-31</td>\n",
       "      <td>02:00:00</td>\n",
       "      <td>0.073942</td>\n",
       "      <td>0.026127</td>\n",
       "      <td>2</td>\n",
       "      <td>0.016905</td>\n",
       "      <td>13.0</td>\n",
       "    </tr>\n",
       "    <tr>\n",
       "      <th>8653</th>\n",
       "      <td>0_0_10_10</td>\n",
       "      <td>2019-12-31 03:00:00</td>\n",
       "      <td>0</td>\n",
       "      <td>0.0</td>\n",
       "      <td>2019-12-31</td>\n",
       "      <td>03:00:00</td>\n",
       "      <td>0.070567</td>\n",
       "      <td>0.026127</td>\n",
       "      <td>2</td>\n",
       "      <td>0.016905</td>\n",
       "      <td>13.0</td>\n",
       "    </tr>\n",
       "    <tr>\n",
       "      <th>8654</th>\n",
       "      <td>0_0_10_10</td>\n",
       "      <td>2019-12-31 04:00:00</td>\n",
       "      <td>0</td>\n",
       "      <td>0.0</td>\n",
       "      <td>2019-12-31</td>\n",
       "      <td>04:00:00</td>\n",
       "      <td>0.076647</td>\n",
       "      <td>0.026127</td>\n",
       "      <td>2</td>\n",
       "      <td>0.016905</td>\n",
       "      <td>13.0</td>\n",
       "    </tr>\n",
       "  </tbody>\n",
       "</table>\n",
       "</div>"
      ],
      "text/plain": [
       "           zone           timestamp  supply  forecast        date      hour  \\\n",
       "8650  0_0_10_10 2019-12-31 00:00:00       0       0.0  2019-12-31  00:00:00   \n",
       "8651  0_0_10_10 2019-12-31 01:00:00       0       0.0  2019-12-31  01:00:00   \n",
       "8652  0_0_10_10 2019-12-31 02:00:00       0       0.0  2019-12-31  02:00:00   \n",
       "8653  0_0_10_10 2019-12-31 03:00:00       0       0.0  2019-12-31  03:00:00   \n",
       "8654  0_0_10_10 2019-12-31 04:00:00       0       0.0  2019-12-31  04:00:00   \n",
       "\n",
       "      prophet_forecast  zone_mean_supply  zone_max_supply  \\\n",
       "8650          0.053345          0.026127                2   \n",
       "8651          0.068624          0.026127                2   \n",
       "8652          0.073942          0.026127                2   \n",
       "8653          0.070567          0.026127                2   \n",
       "8654          0.076647          0.026127                2   \n",
       "\n",
       "      zones_mean_improvement  zones_sum_improvement  \n",
       "8650                0.016905                   13.0  \n",
       "8651                0.016905                   13.0  \n",
       "8652                0.016905                   13.0  \n",
       "8653                0.016905                   13.0  \n",
       "8654                0.016905                   13.0  "
      ]
     },
     "execution_count": 25,
     "metadata": {},
     "output_type": "execute_result"
    }
   ],
   "source": [
    "test.head()"
   ]
  },
  {
   "cell_type": "code",
   "execution_count": 26,
   "metadata": {},
   "outputs": [],
   "source": [
    "# data.to_pickle(\"data_with_metrics.pkl\")"
   ]
  }
 ],
 "metadata": {
  "kernelspec": {
   "display_name": "Python 3",
   "language": "python",
   "name": "python3"
  },
  "language_info": {
   "codemirror_mode": {
    "name": "ipython",
    "version": 3
   },
   "file_extension": ".py",
   "mimetype": "text/x-python",
   "name": "python",
   "nbconvert_exporter": "python",
   "pygments_lexer": "ipython3",
   "version": "3.7.3"
  }
 },
 "nbformat": 4,
 "nbformat_minor": 2
}
