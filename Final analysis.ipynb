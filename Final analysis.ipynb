{
 "cells": [
  {
   "cell_type": "markdown",
   "metadata": {},
   "source": [
    "### Import useful libraries"
   ]
  },
  {
   "cell_type": "code",
   "execution_count": 136,
   "metadata": {},
   "outputs": [],
   "source": [
    "%run \"Imports.ipynb\"\n",
    "# %run \"Helpers.ipynb\""
   ]
  },
  {
   "cell_type": "markdown",
   "metadata": {},
   "source": [
    "### Load data"
   ]
  },
  {
   "cell_type": "code",
   "execution_count": 171,
   "metadata": {},
   "outputs": [],
   "source": [
    "# To have same dataset for naive and Prophet predictions, I considered removing rows where naive prediction is missing\n",
    "# but opted against it for now\n",
    "# df_all = pd.read_pickle(\"df_all.pkl\")\n",
    "# df_all_dropna = df_all.dropna()\n",
    "# data = pd.read_pickle(\"df_all_dropna.pkl\")\n",
    "data = pd.read_pickle(\"df_all.pkl\")"
   ]
  },
  {
   "cell_type": "code",
   "execution_count": 156,
   "metadata": {},
   "outputs": [],
   "source": [
    "# data.timestamp.value_counts()"
   ]
  },
  {
   "cell_type": "markdown",
   "metadata": {},
   "source": [
    "### Helpers"
   ]
  },
  {
   "cell_type": "code",
   "execution_count": 54,
   "metadata": {},
   "outputs": [],
   "source": [
    "def calculate_prophet_forecast(train, test):\n",
    "    prophet = Prophet(growth=\"linear\",holidays_prior_scale=10,yearly_seasonality=False,weekly_seasonality=False,daily_seasonality=False)\n",
    "    prophet.add_country_holidays(country_name='PL'\n",
    "                                ).add_seasonality(name='monthly', period=30.5, fourier_order=55\n",
    "                                                 ).add_seasonality(name='weekly', period=7, fourier_order=10\n",
    "                                                                  ).add_seasonality(name='daily', period=1, fourier_order=15) \n",
    "    prophet.fit(train)\n",
    "    future = prophet.make_future_dataframe(periods=len(test), freq='H', include_history=False)\n",
    "    forecast = prophet.predict(future)\n",
    "    return forecast"
   ]
  },
  {
   "cell_type": "code",
   "execution_count": 55,
   "metadata": {},
   "outputs": [],
   "source": [
    "def divide_into_train_and_test(df,cut_date):\n",
    "    df = df[['timestamp','supply']]\n",
    "    df.columns = ['ds','y']\n",
    "    df = df.sort_values(by=['ds'])\n",
    "\n",
    "    train = df[ df.ds < cut_date ]\n",
    "    test = df[ df.ds >= cut_date ]    \n",
    "    return train, test"
   ]
  },
  {
   "cell_type": "code",
   "execution_count": 58,
   "metadata": {},
   "outputs": [],
   "source": [
    "def add_final_forecast(df,cut_date):\n",
    "    grouped_by_zone = df.groupby('zone')\n",
    "    \n",
    "    for name, group in grouped_by_zone:  \n",
    "        train, test = divide_into_train_and_test(group,cut_date)\n",
    "        print(name)\n",
    "\n",
    "        if train['y'].mean(axis = 0) > 0.26:\n",
    "            prophet_forecast = calculate_prophet_forecast(train, test)\n",
    "            \n",
    "            i = 0\n",
    "            for r_idx, row in test.iterrows():\n",
    "                df.loc[r_idx, 'final_forecast'] = prophet_forecast.loc[i,'yhat']\n",
    "                i = i + 1\n",
    "        else:\n",
    "            for r_idx, row in test.iterrows():\n",
    "                df.loc[r_idx, 'final_forecast'] = df.loc[r_idx, 'forecast']\n",
    "    return df       "
   ]
  },
  {
   "cell_type": "code",
   "execution_count": 168,
   "metadata": {},
   "outputs": [],
   "source": [
    "def final_success_metric(df,forecast_column):\n",
    "    results = []\n",
    "    grouped_by_timestamp = df.groupby('timestamp')\n",
    "    \n",
    "    for name, group in grouped_by_timestamp:\n",
    "        mean_supply = group['supply'].mean(axis = 0)\n",
    "        sum_of_errors = round(abs(group[forecast_column] - group['supply']),10).sum()\n",
    "        single_success_metric = sum_of_errors / (mean_supply * 100)\n",
    "        results.append(single_success_metric)\n",
    "    return results, np.percentile(results, 97)"
   ]
  },
  {
   "cell_type": "markdown",
   "metadata": {},
   "source": [
    "### Calculate Prophet forecast"
   ]
  },
  {
   "cell_type": "code",
   "execution_count": 64,
   "metadata": {},
   "outputs": [],
   "source": [
    "df_final = add_final_forecast(data,'2020-01-31 00:00:00')"
   ]
  },
  {
   "cell_type": "code",
   "execution_count": 66,
   "metadata": {},
   "outputs": [],
   "source": [
    "# Save the Dataframe\n",
    "df_final.to_pickle(\"df_final.pkl\")"
   ]
  },
  {
   "cell_type": "markdown",
   "metadata": {},
   "source": [
    "### Calculate success metrics"
   ]
  },
  {
   "cell_type": "code",
   "execution_count": 71,
   "metadata": {},
   "outputs": [],
   "source": [
    "# Divide intro train and test sets\n",
    "cut_date = '2020-01-31 00:00:00'\n",
    "train = df_final[ df_final.timestamp < cut_date ]\n",
    "test = df_final[ df_final.timestamp >= cut_date ]  "
   ]
  },
  {
   "cell_type": "code",
   "execution_count": 169,
   "metadata": {},
   "outputs": [
    {
     "data": {
      "text/plain": [
       "1.146272378516624"
      ]
     },
     "execution_count": 169,
     "metadata": {},
     "output_type": "execute_result"
    }
   ],
   "source": [
    "results1, naive_success_metric = final_success_metric(test,'forecast')\n",
    "naive_success_metric"
   ]
  },
  {
   "cell_type": "code",
   "execution_count": 170,
   "metadata": {},
   "outputs": [
    {
     "data": {
      "text/plain": [
       "1.4823935936556363"
      ]
     },
     "execution_count": 170,
     "metadata": {},
     "output_type": "execute_result"
    }
   ],
   "source": [
    "results2, prophet_success_metric = final_success_metric(test,'final_forecast')\n",
    "prophet_success_metric"
   ]
  },
  {
   "cell_type": "code",
   "execution_count": 149,
   "metadata": {},
   "outputs": [],
   "source": [
    "test['diff_prophet'] = abs(test['supply'] - test['final_forecast'])\n",
    "test['diff_naive'] = abs(test['supply'] - test['forecast'])\n",
    "test['x_coordinate'] = test.apply (lambda row: row['zone'][:1], axis=1)\n",
    "test['y_coordinate'] = test.apply (lambda row: row['zone'][2:3], axis=1)\n",
    "test['diff'] = test['diff_naive'] - test['diff_prophet']"
   ]
  }
 ],
 "metadata": {
  "kernelspec": {
   "display_name": "Python 3",
   "language": "python",
   "name": "python3"
  },
  "language_info": {
   "codemirror_mode": {
    "name": "ipython",
    "version": 3
   },
   "file_extension": ".py",
   "mimetype": "text/x-python",
   "name": "python",
   "nbconvert_exporter": "python",
   "pygments_lexer": "ipython3",
   "version": "3.7.3"
  }
 },
 "nbformat": 4,
 "nbformat_minor": 2
}
