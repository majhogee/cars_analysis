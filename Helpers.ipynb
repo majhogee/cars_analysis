{
 "cells": [
  {
   "cell_type": "code",
   "execution_count": 1,
   "metadata": {},
   "outputs": [],
   "source": [
    "def success_metric(supply,forecast):\n",
    "    return round(abs(forecast - supply).sum() / (supply.mean(axis = 0) * len(supply)),10)"
   ]
  },
  {
   "cell_type": "code",
   "execution_count": 2,
   "metadata": {},
   "outputs": [],
   "source": [
    "def plot_heatmap(x,y,z,cmap='coolwarm'):\n",
    "    df = pd.DataFrame.from_dict(np.array([x,y,z]).T)\n",
    "    df.columns = ['X_coordinate','Y_coordinate','max_supply']\n",
    "    df['max_supply'] = pd.to_numeric(df['max_supply'])\n",
    "\n",
    "    pivotted= df.pivot('X_coordinate','Y_coordinate','max_supply')\n",
    "    pivotted\n",
    "    plt.figure(figsize=(12, 9))\n",
    "    sns.heatmap(pivotted,annot=True,cmap=cmap)"
   ]
  },
  {
   "cell_type": "code",
   "execution_count": 3,
   "metadata": {},
   "outputs": [],
   "source": [
    "def plot_comparison_heatmap(x,y,z,center=float,cmap='coolwarm'):\n",
    "    df = pd.DataFrame.from_dict(np.array([x,y,z]).T)\n",
    "    df.columns = ['X_coordinate','Y_coordinate','max_supply']\n",
    "    df['max_supply'] = pd.to_numeric(df['max_supply'])\n",
    "\n",
    "    pivotted= df.pivot('X_coordinate','Y_coordinate','max_supply')\n",
    "    pivotted\n",
    "    plt.figure(figsize=(12, 9))\n",
    "    sns.heatmap(pivotted,annot=True,cmap=cmap,center=center)"
   ]
  },
  {
   "cell_type": "code",
   "execution_count": 1,
   "metadata": {},
   "outputs": [],
   "source": [
    "def calculate_prophet_forecast(df_dict_zones, cut_date):\n",
    "    ResultDictProphet = {elem : pd.DataFrame for elem in zone_names}\n",
    "\n",
    "    for key, value in df_dict_zones.items():\n",
    "        ResultDictProphet[key] = single_zone_prophet_forecast(value, cut_date)\n",
    "    return ResultDictProphet"
   ]
  },
  {
   "cell_type": "code",
   "execution_count": 5,
   "metadata": {},
   "outputs": [],
   "source": [
    "def calculate_naive_forecast(df_dict_zones, cut_date):\n",
    "    ResultDictNaive = {elem : pd.DataFrame for elem in zone_names}\n",
    "\n",
    "    for key, value in df_dict_zones.items():\n",
    "\n",
    "        data = value[['timestamp','supply']]\n",
    "        data['timestamp'] = pd.to_datetime(data['timestamp'])\n",
    "        data.set_index('timestamp', inplace=True)\n",
    "\n",
    "        data_hours = data.reset_index()\n",
    "        data_hours.columns = ['ds','y']\n",
    "        data_hours = data_hours.sort_values(by=['ds'])\n",
    "        test = data_hours[ data_hours.ds >= cut_date ]\n",
    "        \n",
    "        test_data = value[ value['timestamp'] >= cut_date ]\n",
    "        naive_forecast = test_data['forecast']\n",
    "        ResultDictNaive[key] = success_metric(test.y.values,naive_forecast.values)\n",
    "    return ResultDictNaive"
   ]
  },
  {
   "cell_type": "code",
   "execution_count": 6,
   "metadata": {},
   "outputs": [],
   "source": [
    "def prepare_xyz(ResultDict):\n",
    "    zone_results = pd.DataFrame.from_dict(ResultDict, orient='index')\n",
    "    zone_results = zone_results.reset_index()\n",
    "    first_column = zone_results.iloc[:, 0] \n",
    "    zone_results['x_coordinate'] = zone_results.apply (lambda row: row['index'][:1], axis=1)\n",
    "    zone_results['y_coordinate'] = zone_results.apply (lambda row: row['index'][2:3], axis=1)\n",
    "    return [zone_results['x_coordinate'],zone_results['y_coordinate'],zone_results[0]]"
   ]
  },
  {
   "cell_type": "code",
   "execution_count": 15,
   "metadata": {},
   "outputs": [],
   "source": [
    "def calculate_improved_prophet_forecast(df_dict_zones, cut_date):\n",
    "    ResultDictProphet = {elem : pd.DataFrame for elem in zone_names}\n",
    "\n",
    "    for key, value in df_dict_zones.items():\n",
    "        ResultDictProphet[key] = single_zone_prophet_forecast_improved(value, cut_date)\n",
    "    return ResultDictProphet"
   ]
  },
  {
   "cell_type": "code",
   "execution_count": 8,
   "metadata": {},
   "outputs": [],
   "source": [
    "def single_zone_prophet_forecast(value,cut_date):\n",
    "    data = value[['timestamp','supply']]\n",
    "    data.columns = ['ds','y']\n",
    "    data = data.sort_values(by=['ds'])\n",
    "\n",
    "    train = data[ data.ds < cut_date ]\n",
    "    test = data[ data.ds >= cut_date ]\n",
    "    if test.shape[0] == 0:\n",
    "        return float(\"NaN\")\n",
    "    else:\n",
    "        prophet = Prophet()\n",
    "#         prophet.add_country_holidays(country_name='PL').add_seasonality(name='monthly', period=30.5, fourier_order=5)\n",
    "        prophet.fit(train)\n",
    "        future = prophet.make_future_dataframe(periods=len(test), freq='H', include_history=False)\n",
    "        forecast = prophet.predict(future)\n",
    "        return success_metric(test.y.values,forecast.yhat.values)"
   ]
  },
  {
   "cell_type": "code",
   "execution_count": 17,
   "metadata": {},
   "outputs": [],
   "source": [
    "def single_zone_prophet_forecast_improved(value,cut_date):\n",
    "    data = value[['timestamp','supply']]\n",
    "    data.columns = ['ds','y']\n",
    "    data = data.sort_values(by=['ds'])\n",
    "\n",
    "    train = data[ data.ds < cut_date ]\n",
    "    test = data[ data.ds >= cut_date ]\n",
    "    if test.shape[0] == 0:\n",
    "        return float(\"NaN\")\n",
    "    else:\n",
    "        prophet = Prophet(growth=\"linear\",holidays_prior_scale=10,yearly_seasonality=False,weekly_seasonality=False,daily_seasonality=False)\n",
    "        prophet.add_country_holidays(country_name='PL'\n",
    "                                    ).add_seasonality(name='monthly', period=30.5, fourier_order=55\n",
    "                                                     ).add_seasonality(name='weekly', period=7, fourier_order=10\n",
    "                                                                      ).add_seasonality(name='daily', period=1, fourier_order=15) \n",
    "        prophet.fit(train)\n",
    "        future = prophet.make_future_dataframe(periods=len(test), freq='H', include_history=False)\n",
    "        forecast = prophet.predict(future)\n",
    "        return success_metric(test.y.values,forecast.yhat.values)"
   ]
  },
  {
   "cell_type": "code",
   "execution_count": 12,
   "metadata": {},
   "outputs": [],
   "source": [
    "def single_zone_prophet_forecast_holidays(value,cut_date):\n",
    "    data = value[['timestamp','supply']]\n",
    "    data.columns = ['ds','y']\n",
    "    data = data.sort_values(by=['ds'])\n",
    "\n",
    "    train = data[ data.ds < cut_date ]\n",
    "    test = data[ data.ds >= cut_date ]\n",
    "    if test.shape[0] == 0:\n",
    "        return float(\"NaN\")\n",
    "    else:\n",
    "        prophet = Prophet()\n",
    "        prophet.add_country_holidays(country_name='PL')\n",
    "        prophet.fit(train)\n",
    "        future = prophet.make_future_dataframe(periods=len(test), freq='H', include_history=False)\n",
    "        forecast = prophet.predict(future)\n",
    "        return success_metric(test.y.values,forecast.yhat.values)"
   ]
  },
  {
   "cell_type": "code",
   "execution_count": 11,
   "metadata": {},
   "outputs": [],
   "source": [
    "def single_zone_prophet_forecast_monthly_seasonality(value,cut_date):\n",
    "    data = value[['timestamp','supply']]\n",
    "    data.columns = ['ds','y']\n",
    "    data = data.sort_values(by=['ds'])\n",
    "\n",
    "    train = data[ data.ds < cut_date ]\n",
    "    test = data[ data.ds >= cut_date ]\n",
    "    if test.shape[0] == 0:\n",
    "        return float(\"NaN\")\n",
    "    else:\n",
    "        prophet = Prophet()\n",
    "        prophet.add_seasonality(name='monthly', period=30.5, fourier_order=5)\n",
    "        prophet.fit(train)\n",
    "        future = prophet.make_future_dataframe(periods=len(test), freq='H', include_history=False)\n",
    "        forecast = prophet.predict(future)\n",
    "        return success_metric(test.y.values,forecast.yhat.values)"
   ]
  },
  {
   "cell_type": "code",
   "execution_count": null,
   "metadata": {},
   "outputs": [],
   "source": []
  }
 ],
 "metadata": {
  "kernelspec": {
   "display_name": "Python 3",
   "language": "python",
   "name": "python3"
  },
  "language_info": {
   "codemirror_mode": {
    "name": "ipython",
    "version": 3
   },
   "file_extension": ".py",
   "mimetype": "text/x-python",
   "name": "python",
   "nbconvert_exporter": "python",
   "pygments_lexer": "ipython3",
   "version": "3.7.3"
  }
 },
 "nbformat": 4,
 "nbformat_minor": 2
}
