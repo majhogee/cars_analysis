{
 "cells": [
  {
   "cell_type": "code",
   "execution_count": 7,
   "metadata": {},
   "outputs": [],
   "source": [
    "def read_data_from_file(csv_file):\n",
    "    df = pd.read_csv(csv_file, parse_dates=['timestamp'])\n",
    "    return df"
   ]
  },
  {
   "cell_type": "code",
   "execution_count": 2,
   "metadata": {},
   "outputs": [],
   "source": [
    "def calculate_prophet_forecast(train, test):\n",
    "    prophet = Prophet(growth=\"linear\",holidays_prior_scale=10,yearly_seasonality=False,weekly_seasonality=False,daily_seasonality=False)\n",
    "    prophet.add_country_holidays(country_name='PL'\n",
    "                                ).add_seasonality(name='monthly', period=30.5, fourier_order=55\n",
    "                                                 ).add_seasonality(name='weekly', period=7, fourier_order=10\n",
    "                                                                  ).add_seasonality(name='daily', period=1, fourier_order=15) \n",
    "    prophet.fit(train)\n",
    "    future = prophet.make_future_dataframe(periods=len(test), freq='H', include_history=False)\n",
    "    forecast = prophet.predict(future)\n",
    "    return forecast"
   ]
  },
  {
   "cell_type": "code",
   "execution_count": 9,
   "metadata": {},
   "outputs": [],
   "source": [
    "def rename_columns_for_prophet(df):\n",
    "    df = df[['timestamp','supply']]\n",
    "    df.columns = ['ds','y']\n",
    "    df = df.sort_values(by=['ds'])\n",
    "    return df"
   ]
  },
  {
   "cell_type": "code",
   "execution_count": 8,
   "metadata": {},
   "outputs": [],
   "source": [
    "def add_prophet_forecast(df,cut_date):\n",
    "    grouped_by_zone = df.groupby('zone')\n",
    "    \n",
    "    for name, group in grouped_by_zone:  \n",
    "        group = rename_columns_for_prophet(group)\n",
    "        train, test = divide_into_train_and_test(group,cut_date,'ds')\n",
    "        print(name)\n",
    "        \n",
    "        prophet_forecast = calculate_prophet_forecast(train, test)\n",
    "            \n",
    "        i = 0\n",
    "        for r_idx, row in test.iterrows():\n",
    "            df.loc[r_idx, 'prophet_forecast'] = prophet_forecast.loc[i,'yhat']\n",
    "            i = i + 1\n",
    "                \n",
    "    return df "
   ]
  },
  {
   "cell_type": "code",
   "execution_count": 4,
   "metadata": {},
   "outputs": [],
   "source": [
    "def divide_into_train_and_test(df,cut_date,timestamp):\n",
    "    train = df[ df[timestamp] < cut_date ]\n",
    "    test = df[ df[timestamp] >= cut_date ]    \n",
    "    return train, test"
   ]
  },
  {
   "cell_type": "code",
   "execution_count": 5,
   "metadata": {},
   "outputs": [],
   "source": [
    "def calculate_zones_mean_supply(train):\n",
    "    zone_names = train['zone'].unique()\n",
    "    MeanSupplyDict = {elem : pd.DataFrame for elem in zone_names}\n",
    "\n",
    "    for key in MeanSupplyDict.keys():\n",
    "        MeanSupplyDict[key] = train['supply'][train.zone == key].mean()\n",
    "        \n",
    "    return MeanSupplyDict"
   ]
  },
  {
   "cell_type": "code",
   "execution_count": 14,
   "metadata": {},
   "outputs": [],
   "source": [
    "def add_mean_supply(data,cutoff_date):\n",
    "    train, test = divide_into_train_and_test(data,cutoff_date,'timestamp')\n",
    "    test['supply'] = test['supply'].astype(float)\n",
    "    \n",
    "    mean_supply_dict = calculate_zones_mean_supply(train)\n",
    "    data['zone_mean_supply'] = data['zone'].map(mean_supply_dict)\n",
    "    return data"
   ]
  },
  {
   "cell_type": "code",
   "execution_count": 15,
   "metadata": {},
   "outputs": [],
   "source": [
    "def calculate_prophet_success_metric(data, cutoff_date):\n",
    "    \n",
    "#   Calculate errors between real supply and prophet forecast\n",
    "    train, test = divide_into_train_and_test(data,cutoff_date,'timestamp')\n",
    "\n",
    "    test['errors_prophet'] = abs(test['supply'] - test['prophet_forecast']).round(0)    \n",
    "    test['relative_errors_prophet'] = test['errors_prophet'] / test['zone_mean_supply']  \n",
    "\n",
    "#   Calculate success metric by zone\n",
    "    results_prophet = []\n",
    "    for name, group in test.groupby('timestamp'):\n",
    "        # ~100 rows, one for each zone\n",
    "        single_prophet_result = group['relative_errors_prophet'].mean()\n",
    "        results_prophet.append(single_prophet_result)    \n",
    "\n",
    "#   Calculate 97 percentile of success metrics\n",
    "    final_result = np.percentile(results_prophet, 97)\n",
    "    \n",
    "    return final_result"
   ]
  },
  {
   "cell_type": "code",
   "execution_count": 13,
   "metadata": {},
   "outputs": [],
   "source": [
    "def calculate_naive_success_metric(data, cutoff_date):\n",
    "    train, test = divide_into_train_and_test(data,cutoff_date,'timestamp')\n",
    "    test['errors_naive'] = abs(test['supply'] - test['forecast'])\n",
    "    test['relative_errors_naive'] = test['errors_naive'] / test['zone_mean_supply'] \n",
    "\n",
    "#   Calculate success metric by zone\n",
    "    results_naive = []\n",
    "    for name, group in test.groupby('timestamp'):\n",
    "        # ~100 rows, one for each zone\n",
    "        single_naive_result = group['relative_errors_naive'].mean()\n",
    "        results_naive.append(single_naive_result)    \n",
    "\n",
    "#   Calculate 97 percentile of success metrics\n",
    "    result = np.percentile(results_naive, 97)\n",
    "    \n",
    "    return result"
   ]
  },
  {
   "cell_type": "code",
   "execution_count": null,
   "metadata": {},
   "outputs": [],
   "source": []
  }
 ],
 "metadata": {
  "kernelspec": {
   "display_name": "Python 3",
   "language": "python",
   "name": "python3"
  },
  "language_info": {
   "codemirror_mode": {
    "name": "ipython",
    "version": 3
   },
   "file_extension": ".py",
   "mimetype": "text/x-python",
   "name": "python",
   "nbconvert_exporter": "python",
   "pygments_lexer": "ipython3",
   "version": "3.7.3"
  }
 },
 "nbformat": 4,
 "nbformat_minor": 2
}
