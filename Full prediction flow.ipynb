{
 "cells": [
  {
   "cell_type": "markdown",
   "metadata": {},
   "source": [
    "### Import useful libraries"
   ]
  },
  {
   "cell_type": "code",
   "execution_count": 17,
   "metadata": {},
   "outputs": [],
   "source": [
    "%run \"Imports.ipynb\"\n",
    "%run \"Helpers.ipynb\""
   ]
  },
  {
   "cell_type": "markdown",
   "metadata": {},
   "source": [
    "### Load data"
   ]
  },
  {
   "cell_type": "code",
   "execution_count": 2,
   "metadata": {},
   "outputs": [],
   "source": [
    "data = read_data_from_file(\"supply_per_zone_2.csv\")"
   ]
  },
  {
   "cell_type": "markdown",
   "metadata": {},
   "source": [
    "### Add Prophet forecast"
   ]
  },
  {
   "cell_type": "code",
   "execution_count": 3,
   "metadata": {},
   "outputs": [
    {
     "name": "stdout",
     "output_type": "stream",
     "text": [
      "0_0_10_10\n",
      "0_1_10_10\n",
      "0_2_10_10\n",
      "0_3_10_10\n",
      "0_4_10_10\n",
      "0_5_10_10\n",
      "0_6_10_10\n",
      "0_7_10_10\n",
      "0_8_10_10\n",
      "0_9_10_10\n",
      "1_0_10_10\n",
      "1_1_10_10\n",
      "1_2_10_10\n",
      "1_3_10_10\n",
      "1_4_10_10\n",
      "1_5_10_10\n",
      "1_6_10_10\n",
      "1_7_10_10\n",
      "1_8_10_10\n",
      "1_9_10_10\n",
      "2_0_10_10\n",
      "2_1_10_10\n",
      "2_2_10_10\n",
      "2_3_10_10\n",
      "2_4_10_10\n",
      "2_5_10_10\n",
      "2_6_10_10\n",
      "2_7_10_10\n",
      "2_8_10_10\n",
      "2_9_10_10\n",
      "3_0_10_10\n",
      "3_1_10_10\n",
      "3_2_10_10\n",
      "3_3_10_10\n",
      "3_4_10_10\n",
      "3_5_10_10\n",
      "3_6_10_10\n",
      "3_7_10_10\n",
      "3_8_10_10\n",
      "3_9_10_10\n",
      "4_0_10_10\n",
      "4_1_10_10\n",
      "4_2_10_10\n",
      "4_3_10_10\n",
      "4_4_10_10\n",
      "4_5_10_10\n",
      "4_6_10_10\n",
      "4_7_10_10\n",
      "4_8_10_10\n",
      "4_9_10_10\n",
      "5_0_10_10\n",
      "5_1_10_10\n",
      "5_2_10_10\n",
      "5_3_10_10\n",
      "5_4_10_10\n",
      "5_5_10_10\n",
      "5_6_10_10\n",
      "5_7_10_10\n",
      "5_8_10_10\n",
      "5_9_10_10\n",
      "6_0_10_10\n",
      "6_1_10_10\n",
      "6_2_10_10\n",
      "6_3_10_10\n",
      "6_4_10_10\n",
      "6_5_10_10\n",
      "6_6_10_10\n",
      "6_7_10_10\n",
      "6_8_10_10\n",
      "6_9_10_10\n",
      "7_0_10_10\n",
      "7_1_10_10\n",
      "7_2_10_10\n",
      "7_3_10_10\n",
      "7_4_10_10\n",
      "7_5_10_10\n",
      "7_6_10_10\n",
      "7_7_10_10\n",
      "7_8_10_10\n",
      "7_9_10_10\n",
      "8_0_10_10\n",
      "8_1_10_10\n",
      "8_2_10_10\n",
      "8_3_10_10\n",
      "8_4_10_10\n",
      "8_5_10_10\n",
      "8_6_10_10\n",
      "8_7_10_10\n",
      "8_8_10_10\n",
      "8_9_10_10\n",
      "9_0_10_10\n",
      "9_1_10_10\n",
      "9_2_10_10\n",
      "9_3_10_10\n",
      "9_4_10_10\n",
      "9_5_10_10\n",
      "9_6_10_10\n",
      "9_7_10_10\n",
      "9_8_10_10\n",
      "9_9_10_10\n"
     ]
    }
   ],
   "source": [
    "data = add_prophet_forecast(data,'2019-12-31 00:00:00')"
   ]
  },
  {
   "cell_type": "code",
   "execution_count": 6,
   "metadata": {},
   "outputs": [
    {
     "data": {
      "text/html": [
       "<div>\n",
       "<style scoped>\n",
       "    .dataframe tbody tr th:only-of-type {\n",
       "        vertical-align: middle;\n",
       "    }\n",
       "\n",
       "    .dataframe tbody tr th {\n",
       "        vertical-align: top;\n",
       "    }\n",
       "\n",
       "    .dataframe thead th {\n",
       "        text-align: right;\n",
       "    }\n",
       "</style>\n",
       "<table border=\"1\" class=\"dataframe\">\n",
       "  <thead>\n",
       "    <tr style=\"text-align: right;\">\n",
       "      <th></th>\n",
       "      <th>Unnamed: 0</th>\n",
       "      <th>zone</th>\n",
       "      <th>timestamp</th>\n",
       "      <th>supply</th>\n",
       "      <th>forecast</th>\n",
       "      <th>prophet_forecast</th>\n",
       "      <th>zone_mean_supply</th>\n",
       "    </tr>\n",
       "  </thead>\n",
       "  <tbody>\n",
       "    <tr>\n",
       "      <th>0</th>\n",
       "      <td>0</td>\n",
       "      <td>0_0_10_10</td>\n",
       "      <td>2019-01-04 14:00:00</td>\n",
       "      <td>1</td>\n",
       "      <td>NaN</td>\n",
       "      <td>NaN</td>\n",
       "      <td>0.026127</td>\n",
       "    </tr>\n",
       "    <tr>\n",
       "      <th>1</th>\n",
       "      <td>1</td>\n",
       "      <td>0_0_10_10</td>\n",
       "      <td>2019-01-04 15:00:00</td>\n",
       "      <td>0</td>\n",
       "      <td>NaN</td>\n",
       "      <td>NaN</td>\n",
       "      <td>0.026127</td>\n",
       "    </tr>\n",
       "    <tr>\n",
       "      <th>2</th>\n",
       "      <td>2</td>\n",
       "      <td>0_0_10_10</td>\n",
       "      <td>2019-01-04 16:00:00</td>\n",
       "      <td>0</td>\n",
       "      <td>NaN</td>\n",
       "      <td>NaN</td>\n",
       "      <td>0.026127</td>\n",
       "    </tr>\n",
       "    <tr>\n",
       "      <th>3</th>\n",
       "      <td>3</td>\n",
       "      <td>0_0_10_10</td>\n",
       "      <td>2019-01-04 17:00:00</td>\n",
       "      <td>0</td>\n",
       "      <td>NaN</td>\n",
       "      <td>NaN</td>\n",
       "      <td>0.026127</td>\n",
       "    </tr>\n",
       "    <tr>\n",
       "      <th>4</th>\n",
       "      <td>4</td>\n",
       "      <td>0_0_10_10</td>\n",
       "      <td>2019-01-04 18:00:00</td>\n",
       "      <td>0</td>\n",
       "      <td>NaN</td>\n",
       "      <td>NaN</td>\n",
       "      <td>0.026127</td>\n",
       "    </tr>\n",
       "  </tbody>\n",
       "</table>\n",
       "</div>"
      ],
      "text/plain": [
       "   Unnamed: 0       zone           timestamp  supply  forecast  \\\n",
       "0           0  0_0_10_10 2019-01-04 14:00:00       1       NaN   \n",
       "1           1  0_0_10_10 2019-01-04 15:00:00       0       NaN   \n",
       "2           2  0_0_10_10 2019-01-04 16:00:00       0       NaN   \n",
       "3           3  0_0_10_10 2019-01-04 17:00:00       0       NaN   \n",
       "4           4  0_0_10_10 2019-01-04 18:00:00       0       NaN   \n",
       "\n",
       "   prophet_forecast  zone_mean_supply  \n",
       "0               NaN          0.026127  \n",
       "1               NaN          0.026127  \n",
       "2               NaN          0.026127  \n",
       "3               NaN          0.026127  \n",
       "4               NaN          0.026127  "
      ]
     },
     "execution_count": 6,
     "metadata": {},
     "output_type": "execute_result"
    }
   ],
   "source": [
    "data.head()"
   ]
  },
  {
   "cell_type": "markdown",
   "metadata": {},
   "source": [
    "### Add mean supply per zone to the dataset"
   ]
  },
  {
   "cell_type": "code",
   "execution_count": 18,
   "metadata": {},
   "outputs": [],
   "source": [
    "data = add_mean_supply(data,'2019-12-31 00:00:00')"
   ]
  },
  {
   "cell_type": "markdown",
   "metadata": {},
   "source": [
    "### Calculate success metric for Prophet forecast"
   ]
  },
  {
   "cell_type": "code",
   "execution_count": 8,
   "metadata": {},
   "outputs": [
    {
     "data": {
      "text/plain": [
       "2.0742013817694"
      ]
     },
     "execution_count": 8,
     "metadata": {},
     "output_type": "execute_result"
    }
   ],
   "source": [
    "success_metric = calculate_prophet_success_metric(data, '2019-12-31 00:00:00')\n",
    "success_metric"
   ]
  },
  {
   "cell_type": "markdown",
   "metadata": {},
   "source": [
    "### Calculate naive succes metric for a comparison"
   ]
  },
  {
   "cell_type": "code",
   "execution_count": 13,
   "metadata": {},
   "outputs": [
    {
     "data": {
      "text/plain": [
       "3.0132086220057666"
      ]
     },
     "execution_count": 13,
     "metadata": {},
     "output_type": "execute_result"
    }
   ],
   "source": [
    "naive_success_metric = calculate_naive_success_metric(data, '2019-12-31 00:00:00')\n",
    "naive_success_metric"
   ]
  }
 ],
 "metadata": {
  "kernelspec": {
   "display_name": "Python 3",
   "language": "python",
   "name": "python3"
  },
  "language_info": {
   "codemirror_mode": {
    "name": "ipython",
    "version": 3
   },
   "file_extension": ".py",
   "mimetype": "text/x-python",
   "name": "python",
   "nbconvert_exporter": "python",
   "pygments_lexer": "ipython3",
   "version": "3.7.3"
  }
 },
 "nbformat": 4,
 "nbformat_minor": 2
}
